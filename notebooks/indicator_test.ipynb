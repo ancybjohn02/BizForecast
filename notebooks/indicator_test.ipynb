{
 "cells": [
  {
   "cell_type": "code",
   "execution_count": 1,
   "id": "53a2e607",
   "metadata": {},
   "outputs": [],
   "source": [
    "import sys\n",
    "import os\n",
    "\n",
    "# Add parent directory to sys.path to access sibling modules like indicators/\n",
    "sys.path.append(os.path.abspath(os.path.join(os.getcwd(), \"..\")))"
   ]
  },
  {
   "cell_type": "code",
   "execution_count": 2,
   "id": "f7ed5878",
   "metadata": {},
   "outputs": [],
   "source": [
    "import warnings\n",
    "warnings.simplefilter(action='ignore', category=FutureWarning)"
   ]
  },
  {
   "cell_type": "code",
   "execution_count": 3,
   "id": "0c617797",
   "metadata": {},
   "outputs": [],
   "source": [
    "import pandas as pd\n",
    "\n",
    "from indicators.rsi import calculate_rsi\n",
    "from indicators.obv import calculate_obv\n",
    "from indicators.bollinger_bands import add_bollinger_bands\n",
    "from indicators.macd import add_macd\n",
    "from indicators.moving_averages import add_moving_averages"
   ]
  },
  {
   "cell_type": "code",
   "execution_count": 6,
   "id": "48d6f872",
   "metadata": {},
   "outputs": [],
   "source": [
    "\n",
    "\n",
    "df = pd.read_csv(\"/home/zeal/Desktop/BizForecast/MVP/data/ASML.csv\", parse_dates=['Date'], index_col='Date')\n",
    "\n",
    "df = calculate_rsi(df)\n",
    "df = calculate_obv(df)\n",
    "df = add_bollinger_bands(df)\n",
    "df = add_macd(df)\n",
    "df = add_moving_averages(df)\n",
    "\n",
    "df.fillna(method='bfill', inplace=True) #filling NaN values with the next valid observation\n",
    "df.to_csv(\"/home/zeal/Desktop/BizForecast/MVP/data/ASML_indicators.csv\")\n"
   ]
  },
  {
   "cell_type": "code",
   "execution_count": null,
   "id": "ad54454c",
   "metadata": {},
   "outputs": [],
   "source": []
  },
  {
   "cell_type": "code",
   "execution_count": null,
   "id": "ab5f9113",
   "metadata": {},
   "outputs": [],
   "source": []
  },
  {
   "cell_type": "code",
   "execution_count": null,
   "id": "14ad6d00",
   "metadata": {},
   "outputs": [],
   "source": []
  }
 ],
 "metadata": {
  "kernelspec": {
   "display_name": "venv",
   "language": "python",
   "name": "python3"
  },
  "language_info": {
   "codemirror_mode": {
    "name": "ipython",
    "version": 3
   },
   "file_extension": ".py",
   "mimetype": "text/x-python",
   "name": "python",
   "nbconvert_exporter": "python",
   "pygments_lexer": "ipython3",
   "version": "3.11.6"
  }
 },
 "nbformat": 4,
 "nbformat_minor": 5
}
